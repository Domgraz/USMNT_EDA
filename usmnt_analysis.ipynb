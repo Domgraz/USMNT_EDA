{
 "cells": [
  {
   "cell_type": "code",
   "execution_count": 79,
   "metadata": {},
   "outputs": [],
   "source": [
    "import pandas as pd\n",
    "from datetime import datetime"
   ]
  },
  {
   "cell_type": "code",
   "execution_count": 80,
   "metadata": {},
   "outputs": [
    {
     "data": {
      "text/html": [
       "<div>\n",
       "<style scoped>\n",
       "    .dataframe tbody tr th:only-of-type {\n",
       "        vertical-align: middle;\n",
       "    }\n",
       "\n",
       "    .dataframe tbody tr th {\n",
       "        vertical-align: top;\n",
       "    }\n",
       "\n",
       "    .dataframe thead th {\n",
       "        text-align: right;\n",
       "    }\n",
       "</style>\n",
       "<table border=\"1\" class=\"dataframe\">\n",
       "  <thead>\n",
       "    <tr style=\"text-align: right;\">\n",
       "      <th></th>\n",
       "      <th>Player</th>\n",
       "      <th>Position</th>\n",
       "      <th>Birthday</th>\n",
       "      <th>Age</th>\n",
       "      <th>Club</th>\n",
       "      <th>League</th>\n",
       "      <th>Market_Value</th>\n",
       "    </tr>\n",
       "  </thead>\n",
       "  <tbody>\n",
       "    <tr>\n",
       "      <th>0</th>\n",
       "      <td>Gabriel Slonina</td>\n",
       "      <td>GK</td>\n",
       "      <td>May-15-2004</td>\n",
       "      <td>19</td>\n",
       "      <td>Chelsea</td>\n",
       "      <td>EPL</td>\n",
       "      <td>8000000</td>\n",
       "    </tr>\n",
       "    <tr>\n",
       "      <th>1</th>\n",
       "      <td>Matt Turner</td>\n",
       "      <td>GK</td>\n",
       "      <td>June-24-1994</td>\n",
       "      <td>28</td>\n",
       "      <td>Arsenal</td>\n",
       "      <td>EPL</td>\n",
       "      <td>5000000</td>\n",
       "    </tr>\n",
       "    <tr>\n",
       "      <th>2</th>\n",
       "      <td>Zach Steffen</td>\n",
       "      <td>GK</td>\n",
       "      <td>April-2-1995</td>\n",
       "      <td>28</td>\n",
       "      <td>Middlesbrough</td>\n",
       "      <td>EFL Championship</td>\n",
       "      <td>4500000</td>\n",
       "    </tr>\n",
       "    <tr>\n",
       "      <th>3</th>\n",
       "      <td>Sean Johnson</td>\n",
       "      <td>GK</td>\n",
       "      <td>May-31-1989</td>\n",
       "      <td>33</td>\n",
       "      <td>Toronto FC</td>\n",
       "      <td>MLS</td>\n",
       "      <td>1500000</td>\n",
       "    </tr>\n",
       "    <tr>\n",
       "      <th>4</th>\n",
       "      <td>Ethan Horvath</td>\n",
       "      <td>GK</td>\n",
       "      <td>June-9-1995</td>\n",
       "      <td>27</td>\n",
       "      <td>Luton Town</td>\n",
       "      <td>EFL Championship</td>\n",
       "      <td>1000000</td>\n",
       "    </tr>\n",
       "  </tbody>\n",
       "</table>\n",
       "</div>"
      ],
      "text/plain": [
       "            Player Position      Birthday  Age           Club  \\\n",
       "0  Gabriel Slonina       GK   May-15-2004   19        Chelsea   \n",
       "1      Matt Turner       GK  June-24-1994   28        Arsenal   \n",
       "2     Zach Steffen       GK  April-2-1995   28  Middlesbrough   \n",
       "3     Sean Johnson       GK   May-31-1989   33     Toronto FC   \n",
       "4    Ethan Horvath       GK   June-9-1995   27     Luton Town   \n",
       "\n",
       "             League  Market_Value  \n",
       "0               EPL       8000000  \n",
       "1               EPL       5000000  \n",
       "2  EFL Championship       4500000  \n",
       "3               MLS       1500000  \n",
       "4  EFL Championship       1000000  "
      ]
     },
     "execution_count": 80,
     "metadata": {},
     "output_type": "execute_result"
    }
   ],
   "source": [
    "df = pd.read_csv('USMNT_2023.csv')\n",
    "df.head()"
   ]
  },
  {
   "cell_type": "code",
   "execution_count": 81,
   "metadata": {},
   "outputs": [
    {
     "name": "stdout",
     "output_type": "stream",
     "text": [
      "<class 'pandas.core.frame.DataFrame'>\n",
      "RangeIndex: 66 entries, 0 to 65\n",
      "Data columns (total 7 columns):\n",
      " #   Column        Non-Null Count  Dtype \n",
      "---  ------        --------------  ----- \n",
      " 0   Player        66 non-null     object\n",
      " 1   Position      66 non-null     object\n",
      " 2   Birthday      66 non-null     object\n",
      " 3   Age           66 non-null     int64 \n",
      " 4   Club          66 non-null     object\n",
      " 5   League        66 non-null     object\n",
      " 6   Market_Value  66 non-null     int64 \n",
      "dtypes: int64(2), object(5)\n",
      "memory usage: 3.7+ KB\n"
     ]
    }
   ],
   "source": [
    "df.info()"
   ]
  },
  {
   "attachments": {},
   "cell_type": "markdown",
   "metadata": {},
   "source": [
    "I want to be able to sort by the date the players were born so I need to change the months name to its numerical counterpart. But before I can get to that I need to expand the date to replace the month"
   ]
  },
  {
   "cell_type": "code",
   "execution_count": 82,
   "metadata": {},
   "outputs": [],
   "source": [
    "months = {'January': 1, 'February':2, 'March':3, 'April':4, 'May':5,'June':6,'July':7, 'August':8,'September':9,'October':10, 'November':11, 'December':12}"
   ]
  },
  {
   "cell_type": "code",
   "execution_count": 83,
   "metadata": {},
   "outputs": [],
   "source": [
    "df['Birthday'] = df['Birthday'].astype('string')\n",
    "df['month'] = df['Birthday'].str.split('-', expand = True)[0]\n",
    "df['day'] = df['Birthday'].str.split('-', expand = True)[1]\n",
    "df['year'] = df['Birthday'].str.split('-', expand = True)[2]"
   ]
  },
  {
   "attachments": {},
   "cell_type": "markdown",
   "metadata": {},
   "source": [
    "Using the map function to replace the name to the numerical counterpart"
   ]
  },
  {
   "cell_type": "code",
   "execution_count": 84,
   "metadata": {},
   "outputs": [],
   "source": [
    "df['month'] = df['month'].map(months)"
   ]
  },
  {
   "cell_type": "code",
   "execution_count": 85,
   "metadata": {},
   "outputs": [],
   "source": [
    "df = df.drop(['month','day','year'],axis =1)"
   ]
  },
  {
   "cell_type": "code",
   "execution_count": 86,
   "metadata": {},
   "outputs": [],
   "source": [
    "df['Birthday'] = pd.to_datetime(df['Birthday'])"
   ]
  },
  {
   "cell_type": "code",
   "execution_count": 87,
   "metadata": {},
   "outputs": [
    {
     "data": {
      "text/html": [
       "<div>\n",
       "<style scoped>\n",
       "    .dataframe tbody tr th:only-of-type {\n",
       "        vertical-align: middle;\n",
       "    }\n",
       "\n",
       "    .dataframe tbody tr th {\n",
       "        vertical-align: top;\n",
       "    }\n",
       "\n",
       "    .dataframe thead th {\n",
       "        text-align: right;\n",
       "    }\n",
       "</style>\n",
       "<table border=\"1\" class=\"dataframe\">\n",
       "  <thead>\n",
       "    <tr style=\"text-align: right;\">\n",
       "      <th></th>\n",
       "      <th>Player</th>\n",
       "      <th>Position</th>\n",
       "      <th>Birthday</th>\n",
       "      <th>Age</th>\n",
       "      <th>Club</th>\n",
       "      <th>League</th>\n",
       "      <th>Market_Value</th>\n",
       "    </tr>\n",
       "  </thead>\n",
       "  <tbody>\n",
       "    <tr>\n",
       "      <th>0</th>\n",
       "      <td>Gabriel Slonina</td>\n",
       "      <td>GK</td>\n",
       "      <td>2004-05-15</td>\n",
       "      <td>19</td>\n",
       "      <td>Chelsea</td>\n",
       "      <td>EPL</td>\n",
       "      <td>8000000</td>\n",
       "    </tr>\n",
       "    <tr>\n",
       "      <th>1</th>\n",
       "      <td>Matt Turner</td>\n",
       "      <td>GK</td>\n",
       "      <td>1994-06-24</td>\n",
       "      <td>28</td>\n",
       "      <td>Arsenal</td>\n",
       "      <td>EPL</td>\n",
       "      <td>5000000</td>\n",
       "    </tr>\n",
       "    <tr>\n",
       "      <th>2</th>\n",
       "      <td>Zach Steffen</td>\n",
       "      <td>GK</td>\n",
       "      <td>1995-04-02</td>\n",
       "      <td>28</td>\n",
       "      <td>Middlesbrough</td>\n",
       "      <td>EFL Championship</td>\n",
       "      <td>4500000</td>\n",
       "    </tr>\n",
       "    <tr>\n",
       "      <th>3</th>\n",
       "      <td>Sean Johnson</td>\n",
       "      <td>GK</td>\n",
       "      <td>1989-05-31</td>\n",
       "      <td>33</td>\n",
       "      <td>Toronto FC</td>\n",
       "      <td>MLS</td>\n",
       "      <td>1500000</td>\n",
       "    </tr>\n",
       "    <tr>\n",
       "      <th>4</th>\n",
       "      <td>Ethan Horvath</td>\n",
       "      <td>GK</td>\n",
       "      <td>1995-06-09</td>\n",
       "      <td>27</td>\n",
       "      <td>Luton Town</td>\n",
       "      <td>EFL Championship</td>\n",
       "      <td>1000000</td>\n",
       "    </tr>\n",
       "  </tbody>\n",
       "</table>\n",
       "</div>"
      ],
      "text/plain": [
       "            Player Position   Birthday  Age           Club            League  \\\n",
       "0  Gabriel Slonina       GK 2004-05-15   19        Chelsea               EPL   \n",
       "1      Matt Turner       GK 1994-06-24   28        Arsenal               EPL   \n",
       "2     Zach Steffen       GK 1995-04-02   28  Middlesbrough  EFL Championship   \n",
       "3     Sean Johnson       GK 1989-05-31   33     Toronto FC               MLS   \n",
       "4    Ethan Horvath       GK 1995-06-09   27     Luton Town  EFL Championship   \n",
       "\n",
       "   Market_Value  \n",
       "0       8000000  \n",
       "1       5000000  \n",
       "2       4500000  \n",
       "3       1500000  \n",
       "4       1000000  "
      ]
     },
     "execution_count": 87,
     "metadata": {},
     "output_type": "execute_result"
    }
   ],
   "source": [
    "df.head()"
   ]
  }
 ],
 "metadata": {
  "kernelspec": {
   "display_name": "Python 3",
   "language": "python",
   "name": "python3"
  },
  "language_info": {
   "codemirror_mode": {
    "name": "ipython",
    "version": 3
   },
   "file_extension": ".py",
   "mimetype": "text/x-python",
   "name": "python",
   "nbconvert_exporter": "python",
   "pygments_lexer": "ipython3",
   "version": "3.9.6"
  },
  "orig_nbformat": 4
 },
 "nbformat": 4,
 "nbformat_minor": 2
}

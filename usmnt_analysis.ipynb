{
 "cells": [
  {
   "cell_type": "code",
   "execution_count": 1,
   "metadata": {},
   "outputs": [],
   "source": [
    "import pandas as pd\n",
    "from datetime import datetime\n",
    "import seaborn as sns\n",
    "import duckdb"
   ]
  },
  {
   "cell_type": "code",
   "execution_count": 2,
   "metadata": {},
   "outputs": [
    {
     "data": {
      "text/html": [
       "<div>\n",
       "<style scoped>\n",
       "    .dataframe tbody tr th:only-of-type {\n",
       "        vertical-align: middle;\n",
       "    }\n",
       "\n",
       "    .dataframe tbody tr th {\n",
       "        vertical-align: top;\n",
       "    }\n",
       "\n",
       "    .dataframe thead th {\n",
       "        text-align: right;\n",
       "    }\n",
       "</style>\n",
       "<table border=\"1\" class=\"dataframe\">\n",
       "  <thead>\n",
       "    <tr style=\"text-align: right;\">\n",
       "      <th></th>\n",
       "      <th>Player</th>\n",
       "      <th>Position</th>\n",
       "      <th>Birthday</th>\n",
       "      <th>Age</th>\n",
       "      <th>Club</th>\n",
       "      <th>League</th>\n",
       "      <th>Market_Value</th>\n",
       "    </tr>\n",
       "  </thead>\n",
       "  <tbody>\n",
       "    <tr>\n",
       "      <th>0</th>\n",
       "      <td>Gabriel Slonina</td>\n",
       "      <td>GK</td>\n",
       "      <td>May-15-2004</td>\n",
       "      <td>19</td>\n",
       "      <td>Chelsea</td>\n",
       "      <td>EPL</td>\n",
       "      <td>8000000</td>\n",
       "    </tr>\n",
       "    <tr>\n",
       "      <th>1</th>\n",
       "      <td>Matt Turner</td>\n",
       "      <td>GK</td>\n",
       "      <td>June-24-1994</td>\n",
       "      <td>28</td>\n",
       "      <td>Arsenal</td>\n",
       "      <td>EPL</td>\n",
       "      <td>5000000</td>\n",
       "    </tr>\n",
       "    <tr>\n",
       "      <th>2</th>\n",
       "      <td>Zach Steffen</td>\n",
       "      <td>GK</td>\n",
       "      <td>April-2-1995</td>\n",
       "      <td>28</td>\n",
       "      <td>Middlesbrough</td>\n",
       "      <td>EFL Championship</td>\n",
       "      <td>4500000</td>\n",
       "    </tr>\n",
       "    <tr>\n",
       "      <th>3</th>\n",
       "      <td>Sean Johnson</td>\n",
       "      <td>GK</td>\n",
       "      <td>May-31-1989</td>\n",
       "      <td>33</td>\n",
       "      <td>Toronto FC</td>\n",
       "      <td>MLS</td>\n",
       "      <td>1500000</td>\n",
       "    </tr>\n",
       "    <tr>\n",
       "      <th>4</th>\n",
       "      <td>Ethan Horvath</td>\n",
       "      <td>GK</td>\n",
       "      <td>June-9-1995</td>\n",
       "      <td>27</td>\n",
       "      <td>Luton Town</td>\n",
       "      <td>EFL Championship</td>\n",
       "      <td>1000000</td>\n",
       "    </tr>\n",
       "  </tbody>\n",
       "</table>\n",
       "</div>"
      ],
      "text/plain": [
       "            Player Position      Birthday  Age           Club  \\\n",
       "0  Gabriel Slonina       GK   May-15-2004   19        Chelsea   \n",
       "1      Matt Turner       GK  June-24-1994   28        Arsenal   \n",
       "2     Zach Steffen       GK  April-2-1995   28  Middlesbrough   \n",
       "3     Sean Johnson       GK   May-31-1989   33     Toronto FC   \n",
       "4    Ethan Horvath       GK   June-9-1995   27     Luton Town   \n",
       "\n",
       "             League  Market_Value  \n",
       "0               EPL       8000000  \n",
       "1               EPL       5000000  \n",
       "2  EFL Championship       4500000  \n",
       "3               MLS       1500000  \n",
       "4  EFL Championship       1000000  "
      ]
     },
     "execution_count": 2,
     "metadata": {},
     "output_type": "execute_result"
    }
   ],
   "source": [
    "df = pd.read_csv('USMNT_2023.csv')\n",
    "df.head()"
   ]
  },
  {
   "cell_type": "code",
   "execution_count": 3,
   "metadata": {},
   "outputs": [
    {
     "name": "stdout",
     "output_type": "stream",
     "text": [
      "<class 'pandas.core.frame.DataFrame'>\n",
      "RangeIndex: 66 entries, 0 to 65\n",
      "Data columns (total 7 columns):\n",
      " #   Column        Non-Null Count  Dtype \n",
      "---  ------        --------------  ----- \n",
      " 0   Player        66 non-null     object\n",
      " 1   Position      66 non-null     object\n",
      " 2   Birthday      66 non-null     object\n",
      " 3   Age           66 non-null     int64 \n",
      " 4   Club          66 non-null     object\n",
      " 5   League        66 non-null     object\n",
      " 6   Market_Value  66 non-null     int64 \n",
      "dtypes: int64(2), object(5)\n",
      "memory usage: 3.7+ KB\n"
     ]
    }
   ],
   "source": [
    "df.info()"
   ]
  },
  {
   "attachments": {},
   "cell_type": "markdown",
   "metadata": {},
   "source": [
    "I want to be able to sort by the date the players were born so I need to change the months name to its numerical counterpart. But before I can get to that I need to expand the date to replace the month"
   ]
  },
  {
   "cell_type": "code",
   "execution_count": 4,
   "metadata": {},
   "outputs": [],
   "source": [
    "months = {'January': 1, 'February':2, 'March':3, 'April':4, 'May':5,'June':6,'July':7, 'August':8,'September':9,'October':10, 'November':11, 'December':12}"
   ]
  },
  {
   "cell_type": "code",
   "execution_count": 5,
   "metadata": {},
   "outputs": [],
   "source": [
    "df['Birthday'] = df['Birthday'].astype('string')\n",
    "df['month'] = df['Birthday'].str.split('-', expand = True)[0]\n",
    "df['day'] = df['Birthday'].str.split('-', expand = True)[1]\n",
    "df['year'] = df['Birthday'].str.split('-', expand = True)[2]"
   ]
  },
  {
   "attachments": {},
   "cell_type": "markdown",
   "metadata": {},
   "source": [
    "Using the map function to replace the name to the numerical counterpart"
   ]
  },
  {
   "cell_type": "code",
   "execution_count": 6,
   "metadata": {},
   "outputs": [],
   "source": [
    "df['month'] = df['month'].map(months)"
   ]
  },
  {
   "cell_type": "code",
   "execution_count": 7,
   "metadata": {},
   "outputs": [],
   "source": [
    "df = df.drop(['month','day','year'],axis =1)"
   ]
  },
  {
   "cell_type": "code",
   "execution_count": 8,
   "metadata": {},
   "outputs": [],
   "source": [
    "df['Birthday'] = pd.to_datetime(df['Birthday'])"
   ]
  },
  {
   "cell_type": "code",
   "execution_count": 9,
   "metadata": {},
   "outputs": [
    {
     "data": {
      "text/html": [
       "<div>\n",
       "<style scoped>\n",
       "    .dataframe tbody tr th:only-of-type {\n",
       "        vertical-align: middle;\n",
       "    }\n",
       "\n",
       "    .dataframe tbody tr th {\n",
       "        vertical-align: top;\n",
       "    }\n",
       "\n",
       "    .dataframe thead th {\n",
       "        text-align: right;\n",
       "    }\n",
       "</style>\n",
       "<table border=\"1\" class=\"dataframe\">\n",
       "  <thead>\n",
       "    <tr style=\"text-align: right;\">\n",
       "      <th></th>\n",
       "      <th>Player</th>\n",
       "      <th>Position</th>\n",
       "      <th>Birthday</th>\n",
       "      <th>Age</th>\n",
       "      <th>Club</th>\n",
       "      <th>League</th>\n",
       "      <th>Market_Value</th>\n",
       "    </tr>\n",
       "  </thead>\n",
       "  <tbody>\n",
       "    <tr>\n",
       "      <th>0</th>\n",
       "      <td>Gabriel Slonina</td>\n",
       "      <td>GK</td>\n",
       "      <td>2004-05-15</td>\n",
       "      <td>19</td>\n",
       "      <td>Chelsea</td>\n",
       "      <td>EPL</td>\n",
       "      <td>8000000</td>\n",
       "    </tr>\n",
       "    <tr>\n",
       "      <th>1</th>\n",
       "      <td>Matt Turner</td>\n",
       "      <td>GK</td>\n",
       "      <td>1994-06-24</td>\n",
       "      <td>28</td>\n",
       "      <td>Arsenal</td>\n",
       "      <td>EPL</td>\n",
       "      <td>5000000</td>\n",
       "    </tr>\n",
       "    <tr>\n",
       "      <th>2</th>\n",
       "      <td>Zach Steffen</td>\n",
       "      <td>GK</td>\n",
       "      <td>1995-04-02</td>\n",
       "      <td>28</td>\n",
       "      <td>Middlesbrough</td>\n",
       "      <td>EFL Championship</td>\n",
       "      <td>4500000</td>\n",
       "    </tr>\n",
       "    <tr>\n",
       "      <th>3</th>\n",
       "      <td>Sean Johnson</td>\n",
       "      <td>GK</td>\n",
       "      <td>1989-05-31</td>\n",
       "      <td>33</td>\n",
       "      <td>Toronto FC</td>\n",
       "      <td>MLS</td>\n",
       "      <td>1500000</td>\n",
       "    </tr>\n",
       "    <tr>\n",
       "      <th>4</th>\n",
       "      <td>Ethan Horvath</td>\n",
       "      <td>GK</td>\n",
       "      <td>1995-06-09</td>\n",
       "      <td>27</td>\n",
       "      <td>Luton Town</td>\n",
       "      <td>EFL Championship</td>\n",
       "      <td>1000000</td>\n",
       "    </tr>\n",
       "  </tbody>\n",
       "</table>\n",
       "</div>"
      ],
      "text/plain": [
       "            Player Position   Birthday  Age           Club            League  \\\n",
       "0  Gabriel Slonina       GK 2004-05-15   19        Chelsea               EPL   \n",
       "1      Matt Turner       GK 1994-06-24   28        Arsenal               EPL   \n",
       "2     Zach Steffen       GK 1995-04-02   28  Middlesbrough  EFL Championship   \n",
       "3     Sean Johnson       GK 1989-05-31   33     Toronto FC               MLS   \n",
       "4    Ethan Horvath       GK 1995-06-09   27     Luton Town  EFL Championship   \n",
       "\n",
       "   Market_Value  \n",
       "0       8000000  \n",
       "1       5000000  \n",
       "2       4500000  \n",
       "3       1500000  \n",
       "4       1000000  "
      ]
     },
     "execution_count": 9,
     "metadata": {},
     "output_type": "execute_result"
    }
   ],
   "source": [
    "df.head()"
   ]
  },
  {
   "cell_type": "code",
   "execution_count": 10,
   "metadata": {},
   "outputs": [
    {
     "data": {
      "text/plain": [
       "League\n",
       "MLS                   26\n",
       "EPL                    8\n",
       "EFL Championship       5\n",
       "Eredivisie             3\n",
       "SPL                    3\n",
       "Liga MX                2\n",
       "Jupiler Pro League     2\n",
       "La Liga                2\n",
       "Bundesliga             2\n",
       "Ligue 1                2\n",
       "Segunda Division       1\n",
       "Superligaen            1\n",
       "Super Lig              1\n",
       "Serie A (Brazil)       1\n",
       "Serie A                1\n",
       "Belgian Pro League     1\n",
       "Primera Liga           1\n",
       "Eliteserien            1\n",
       "Bundesliga 2           1\n",
       "Bundesliga             1\n",
       "USL Championship       1\n",
       "dtype: int64"
      ]
     },
     "execution_count": 10,
     "metadata": {},
     "output_type": "execute_result"
    }
   ],
   "source": [
    "df.value_counts('League')"
   ]
  },
  {
   "cell_type": "code",
   "execution_count": 11,
   "metadata": {},
   "outputs": [],
   "source": [
    "df['League'] = df['League'].str.replace('Jupiler Pro League', 'Belgian Pro League')"
   ]
  },
  {
   "cell_type": "code",
   "execution_count": 12,
   "metadata": {},
   "outputs": [
    {
     "data": {
      "text/plain": [
       "<AxesSubplot:xlabel='Market_Value', ylabel='Position'>"
      ]
     },
     "execution_count": 12,
     "metadata": {},
     "output_type": "execute_result"
    },
    {
     "data": {
      "image/png": "[encoded data removed]",
      "text/plain": [
       "<Figure size 640x480 with 1 Axes>"
      ]
     },
     "metadata": {},
     "output_type": "display_data"
    }
   ],
   "source": [
    "sns.scatterplot(data = df, y = 'Position',x = 'Market_Value', hue = 'League')"
   ]
  },
  {
   "cell_type": "code",
   "execution_count": 13,
   "metadata": {},
   "outputs": [
    {
     "data": {
      "text/plain": [
       "array(['EPL', 'EFL Championship', 'MLS', 'SPL', 'Belgian Pro League',\n",
       "       'Ligue 1', 'USL Championship', 'Eliteserien', 'Bundesliga 2',\n",
       "       'Segunda Division', 'Bundesliga ', 'Serie A', 'Primera Liga',\n",
       "       'Serie A (Brazil)', 'La Liga', 'Eredivisie', 'Liga MX',\n",
       "       'Bundesliga', 'Superligaen', 'Super Lig'], dtype=object)"
      ]
     },
     "execution_count": 13,
     "metadata": {},
     "output_type": "execute_result"
    }
   ],
   "source": [
    "df.League.unique()"
   ]
  },
  {
   "attachments": {},
   "cell_type": "markdown",
   "metadata": {},
   "source": [
    "The leagues broken down by country they are in:\n",
    "\n",
    "* England - EPL, EFL Championship\n",
    "* Scotland - SPL\n",
    "* USA - MLS, USL Championship\n",
    "* Belgium - Belgian Pro League\n",
    "* France - Ligue 1\n",
    "* Norway - Eliteserien\n",
    "* Germany - Bundesliga 2, Bundesliga\n",
    "* Spain - Segunda Division, La Liga\n",
    "* Italy - Serie A\n",
    "* Portugal - Primera Liga\n",
    "* Brazil - Serie A (Brazil)\n",
    "* Netherlands - Eredivisie\n",
    "* Mexico - Liga MX\n",
    "* Denmark - Superligaen\n",
    "* Turkey - Super Lig\n",
    "\n",
    "\n",
    "\n",
    "\n",
    "\n",
    "\n"
   ]
  },
  {
   "cell_type": "code",
   "execution_count": 14,
   "metadata": {},
   "outputs": [],
   "source": [
    "df['Country_of_League'] = df.loc[:,'League']"
   ]
  },
  {
   "attachments": {},
   "cell_type": "markdown",
   "metadata": {},
   "source": [
    "Add a new column which has the country where the league plays in"
   ]
  },
  {
   "cell_type": "code",
   "execution_count": 15,
   "metadata": {},
   "outputs": [],
   "source": [
    "df.loc[df['Country_of_League'] == 'EPL','Country_of_League'] = 'England'\n",
    "df.loc[df['Country_of_League'] == 'EFL Championship','Country_of_League'] = 'England'\n",
    "df.loc[df['Country_of_League'] == 'SPL','Country_of_League'] = 'Scotland'\n",
    "df.loc[df['Country_of_League'] == 'MLS','Country_of_League'] = 'USA'\n",
    "df.loc[df['Country_of_League'] == 'USL Championship','Country_of_League'] = 'USA'\n",
    "df.loc[df['Country_of_League'] == 'Belgian Pro League','Country_of_League'] = 'Belgium'\n",
    "df.loc[df['Country_of_League'] == 'Ligue 1','Country_of_League'] = 'France'\n",
    "df.loc[df['Country_of_League'] == 'Eliteserien','Country_of_League'] = 'Norway'\n",
    "df.loc[df['Country_of_League'] == 'Bundesliga','Country_of_League'] = 'Germany'\n",
    "df.loc[df['Country_of_League'] == 'Bundesliga 2','Country_of_League'] = 'Germany'\n",
    "df.loc[df['Country_of_League'] == 'Segunda Division','Country_of_League'] = 'Spain'\n",
    "df.loc[df['Country_of_League'] == 'La Liga','Country_of_League'] = 'Germany'\n",
    "df.loc[df['Country_of_League'] == 'Serie A','Country_of_League'] = 'Italy'\n",
    "df.loc[df['Country_of_League'] == 'Primera Liga','Country_of_League'] = 'Portugal'\n",
    "df.loc[df['Country_of_League'] == 'Serie A (Brazil)','Country_of_League'] = 'Brazil'\n",
    "df.loc[df['Country_of_League'] == 'Eredivisie','Country_of_League'] = 'Netherlands'\n",
    "df.loc[df['Country_of_League'] == 'Liga MX','Country_of_League'] = 'Mexico'\n",
    "df.loc[df['Country_of_League'] == 'Superligaen','Country_of_League'] = 'Denmark'\n",
    "df.loc[df['Country_of_League'] == 'Super Lig','Country_of_League'] = 'Turkey'\n"
   ]
  },
  {
   "cell_type": "code",
   "execution_count": 16,
   "metadata": {},
   "outputs": [
    {
     "data": {
      "text/html": [
       "<div>\n",
       "<style scoped>\n",
       "    .dataframe tbody tr th:only-of-type {\n",
       "        vertical-align: middle;\n",
       "    }\n",
       "\n",
       "    .dataframe tbody tr th {\n",
       "        vertical-align: top;\n",
       "    }\n",
       "\n",
       "    .dataframe thead th {\n",
       "        text-align: right;\n",
       "    }\n",
       "</style>\n",
       "<table border=\"1\" class=\"dataframe\">\n",
       "  <thead>\n",
       "    <tr style=\"text-align: right;\">\n",
       "      <th></th>\n",
       "      <th>Player</th>\n",
       "      <th>Position</th>\n",
       "      <th>Birthday</th>\n",
       "      <th>Age</th>\n",
       "      <th>Club</th>\n",
       "      <th>League</th>\n",
       "      <th>Market_Value</th>\n",
       "      <th>Country_of_League</th>\n",
       "    </tr>\n",
       "  </thead>\n",
       "  <tbody>\n",
       "    <tr>\n",
       "      <th>0</th>\n",
       "      <td>Gabriel Slonina</td>\n",
       "      <td>GK</td>\n",
       "      <td>2004-05-15</td>\n",
       "      <td>19</td>\n",
       "      <td>Chelsea</td>\n",
       "      <td>EPL</td>\n",
       "      <td>8000000</td>\n",
       "      <td>England</td>\n",
       "    </tr>\n",
       "    <tr>\n",
       "      <th>1</th>\n",
       "      <td>Matt Turner</td>\n",
       "      <td>GK</td>\n",
       "      <td>1994-06-24</td>\n",
       "      <td>28</td>\n",
       "      <td>Arsenal</td>\n",
       "      <td>EPL</td>\n",
       "      <td>5000000</td>\n",
       "      <td>England</td>\n",
       "    </tr>\n",
       "    <tr>\n",
       "      <th>2</th>\n",
       "      <td>Zach Steffen</td>\n",
       "      <td>GK</td>\n",
       "      <td>1995-04-02</td>\n",
       "      <td>28</td>\n",
       "      <td>Middlesbrough</td>\n",
       "      <td>EFL Championship</td>\n",
       "      <td>4500000</td>\n",
       "      <td>England</td>\n",
       "    </tr>\n",
       "    <tr>\n",
       "      <th>3</th>\n",
       "      <td>Sean Johnson</td>\n",
       "      <td>GK</td>\n",
       "      <td>1989-05-31</td>\n",
       "      <td>33</td>\n",
       "      <td>Toronto FC</td>\n",
       "      <td>MLS</td>\n",
       "      <td>1500000</td>\n",
       "      <td>USA</td>\n",
       "    </tr>\n",
       "    <tr>\n",
       "      <th>4</th>\n",
       "      <td>Ethan Horvath</td>\n",
       "      <td>GK</td>\n",
       "      <td>1995-06-09</td>\n",
       "      <td>27</td>\n",
       "      <td>Luton Town</td>\n",
       "      <td>EFL Championship</td>\n",
       "      <td>1000000</td>\n",
       "      <td>England</td>\n",
       "    </tr>\n",
       "  </tbody>\n",
       "</table>\n",
       "</div>"
      ],
      "text/plain": [
       "            Player Position   Birthday  Age           Club            League  \\\n",
       "0  Gabriel Slonina       GK 2004-05-15   19        Chelsea               EPL   \n",
       "1      Matt Turner       GK 1994-06-24   28        Arsenal               EPL   \n",
       "2     Zach Steffen       GK 1995-04-02   28  Middlesbrough  EFL Championship   \n",
       "3     Sean Johnson       GK 1989-05-31   33     Toronto FC               MLS   \n",
       "4    Ethan Horvath       GK 1995-06-09   27     Luton Town  EFL Championship   \n",
       "\n",
       "   Market_Value Country_of_League  \n",
       "0       8000000           England  \n",
       "1       5000000           England  \n",
       "2       4500000           England  \n",
       "3       1500000               USA  \n",
       "4       1000000           England  "
      ]
     },
     "execution_count": 16,
     "metadata": {},
     "output_type": "execute_result"
    }
   ],
   "source": [
    "df.head()"
   ]
  },
  {
   "attachments": {},
   "cell_type": "markdown",
   "metadata": {},
   "source": [
    "Produce multiple queries to further understand the data"
   ]
  },
  {
   "cell_type": "code",
   "execution_count": 22,
   "metadata": {},
   "outputs": [
    {
     "data": {
      "text/plain": [
       "┌───────────────────┬──────────┬─────────────────────┬───────┬───┬────────────┬──────────────┬───────────────────┐\n",
       "│      Player       │ Position │      Birthday       │  Age  │ … │   League   │ Market_Value │ Country_of_League │\n",
       "│      varchar      │ varchar  │      timestamp      │ int64 │   │  varchar   │    int64     │      varchar      │\n",
       "├───────────────────┼──────────┼─────────────────────┼───────┼───┼────────────┼──────────────┼───────────────────┤\n",
       "│ Christian Pulisic │ LW       │ 1998-09-18 00:00:00 │    24 │ … │ EPL        │     32000000 │ England           │\n",
       "│ Brenden Aaronson  │ CAM      │ 2000-10-22 00:00:00 │    22 │ … │ EPL        │     30000000 │ England           │\n",
       "│ Gio Reyna         │ CAM      │ 2002-11-13 00:00:00 │    20 │ … │ Bundesliga │     28000000 │ Germany           │\n",
       "│ Yunus Musah       │ CM       │ 2002-11-29 00:00:00 │    20 │ … │ La Liga    │     22000000 │ Germany           │\n",
       "│ Weston McKennie   │ CM       │ 1998-08-28 00:00:00 │    24 │ … │ EPL        │     21000000 │ England           │\n",
       "│ Tyler Adams       │ CDM      │ 1999-02-14 00:00:00 │    24 │ … │ EPL        │     20000000 │ England           │\n",
       "├───────────────────┴──────────┴─────────────────────┴───────┴───┴────────────┴──────────────┴───────────────────┤\n",
       "│ 6 rows                                                                                     8 columns (7 shown) │\n",
       "└────────────────────────────────────────────────────────────────────────────────────────────────────────────────┘"
      ]
     },
     "execution_count": 22,
     "metadata": {},
     "output_type": "execute_result"
    }
   ],
   "source": [
    "duckdb.query('SELECT * FROM df WHERE Market_Value > 15000000 ORDER BY Market_Value DESC')"
   ]
  },
  {
   "cell_type": "code",
   "execution_count": 44,
   "metadata": {},
   "outputs": [
    {
     "data": {
      "text/plain": [
       "┌───────────────────┬──────────┬─────────────────────┬───────┬───┬─────────┬──────────────┬───────────────────┐\n",
       "│      Player       │ Position │      Birthday       │  Age  │ … │ League  │ Market_Value │ Country_of_League │\n",
       "│      varchar      │ varchar  │      timestamp      │ int64 │   │ varchar │    int64     │      varchar      │\n",
       "├───────────────────┼──────────┼─────────────────────┼───────┼───┼─────────┼──────────────┼───────────────────┤\n",
       "│ Christian Pulisic │ LW       │ 1998-09-18 00:00:00 │    24 │ … │ EPL     │     32000000 │ England           │\n",
       "│ Brenden Aaronson  │ CAM      │ 2000-10-22 00:00:00 │    22 │ … │ EPL     │     30000000 │ England           │\n",
       "│ Weston McKennie   │ CM       │ 1998-08-28 00:00:00 │    24 │ … │ EPL     │     21000000 │ England           │\n",
       "│ Tyler Adams       │ CDM      │ 1999-02-14 00:00:00 │    24 │ … │ EPL     │     20000000 │ England           │\n",
       "│ Antonee Robinson  │ LB       │ 1997-08-08 00:00:00 │    25 │ … │ EPL     │     12000000 │ England           │\n",
       "│ Gabriel Slonina   │ GK       │ 2004-05-15 00:00:00 │    19 │ … │ EPL     │      8000000 │ England           │\n",
       "│ Matt Turner       │ GK       │ 1994-06-24 00:00:00 │    28 │ … │ EPL     │      5000000 │ England           │\n",
       "│ Tim Ream          │ CB       │ 1987-10-05 00:00:00 │    35 │ … │ EPL     │      1000000 │ England           │\n",
       "├───────────────────┴──────────┴─────────────────────┴───────┴───┴─────────┴──────────────┴───────────────────┤\n",
       "│ 8 rows                                                                                  8 columns (7 shown) │\n",
       "└─────────────────────────────────────────────────────────────────────────────────────────────────────────────┘"
      ]
     },
     "execution_count": 44,
     "metadata": {},
     "output_type": "execute_result"
    }
   ],
   "source": [
    "duckdb.query(\"SELECT * FROM df WHERE League ='EPL' ORDER BY Market_Value DESC\")"
   ]
  }
 ],
 "metadata": {
  "kernelspec": {
   "display_name": "Python 3",
   "language": "python",
   "name": "python3"
  },
  "language_info": {
   "codemirror_mode": {
    "name": "ipython",
    "version": 3
   },
   "file_extension": ".py",
   "mimetype": "text/x-python",
   "name": "python",
   "nbconvert_exporter": "python",
   "pygments_lexer": "ipython3",
   "version": "3.9.13"
  },
  "orig_nbformat": 4
 },
 "nbformat": 4,
 "nbformat_minor": 2
}
